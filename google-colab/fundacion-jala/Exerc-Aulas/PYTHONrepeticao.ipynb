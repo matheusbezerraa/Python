{
  "nbformat": 4,
  "nbformat_minor": 0,
  "metadata": {
    "colab": {
      "provenance": [],
      "collapsed_sections": []
    },
    "kernelspec": {
      "name": "python3",
      "display_name": "Python 3"
    },
    "language_info": {
      "name": "python"
    }
  },
  "cells": [
    {
      "cell_type": "code",
      "execution_count": 1,
      "metadata": {
        "colab": {
          "base_uri": "https://localhost:8080/"
        },
        "id": "rL5hdNDJMuM1",
        "outputId": "3298f9e0-c4e2-499a-9c99-211a558631e4"
      },
      "outputs": [
        {
          "output_type": "stream",
          "name": "stdout",
          "text": [
            "true\n"
          ]
        }
      ],
      "source": [
        "condicion = True\n",
        "\n",
        "while condicion:\n",
        "  print('true')\n",
        "  condicion = False"
      ]
    },
    {
      "cell_type": "code",
      "source": [
        "elemento = [1, 2, 3]\n",
        "\n",
        "for variable in elemento:\n",
        "    print('variable')"
      ],
      "metadata": {
        "colab": {
          "base_uri": "https://localhost:8080/"
        },
        "id": "0dO04sbXPrbN",
        "outputId": "c1114e0c-c8db-4715-f275-1b530ec48fee"
      },
      "execution_count": 2,
      "outputs": [
        {
          "output_type": "stream",
          "name": "stdout",
          "text": [
            "variable\n",
            "variable\n",
            "variable\n"
          ]
        }
      ]
    }
  ]
}