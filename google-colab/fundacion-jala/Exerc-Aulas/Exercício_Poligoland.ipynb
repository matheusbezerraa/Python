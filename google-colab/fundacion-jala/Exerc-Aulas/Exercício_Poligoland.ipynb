{
  "nbformat": 4,
  "nbformat_minor": 0,
  "metadata": {
    "colab": {
      "provenance": []
    },
    "kernelspec": {
      "name": "python3",
      "display_name": "Python 3"
    },
    "language_info": {
      "name": "python"
    }
  },
  "cells": [
    {
      "cell_type": "markdown",
      "source": [
        "###Exercício da PoligoLand"
      ],
      "metadata": {
        "id": "u9dF3EjB4405"
      }
    },
    {
      "cell_type": "markdown",
      "source": [
        "classe poligono\n",
        "\n",
        "metodos: calcular perimetro, calcular area \n",
        "\n",
        "perimetro = lado * numero de lados\n",
        "\n",
        "area = (perimetro * apotema)/2\n",
        "\n",
        "\n",
        "atributos: lado, numero de lados, apotema\n",
        "\n",
        "\n"
      ],
      "metadata": {
        "id": "sZJJRib7MrOs"
      }
    },
    {
      "cell_type": "code",
      "execution_count": null,
      "metadata": {
        "colab": {
          "base_uri": "https://localhost:8080/"
        },
        "id": "K26hKN9H416D",
        "outputId": "e2c72f40-1981-4b64-d971-e4e0145dea14"
      },
      "outputs": [
        {
          "output_type": "stream",
          "name": "stdout",
          "text": [
            "seu lado vale: 6\n",
            "seu número de lados é: 4\n",
            "seu apótema vale: 4\n",
            "seu perímetro é igual à:  24.0  milímetros\n",
            "sua área é igual à:  48.0  milímetros\n",
            "você não é um triângulo!\n",
            "você é um quadrilátero!\n",
            "você não é um pentágono!\n"
          ]
        }
      ],
      "source": [
        "class poligono:\n",
        "    def __init__(self, side, number_of_side, apothem):\n",
        "        self.side = side\n",
        "        self.number_of_side = number_of_side\n",
        "        self.apothem = apothem\n",
        "\n",
        "    def calculate_perimeter(self):\n",
        "        perimeter = self.side * self.number_of_side\n",
        "        return perimeter\n",
        "\n",
        "    def calculate_area(self):\n",
        "        area = (self.calculate_perimeter() * self.apothem) /2\n",
        "        return area\n",
        "\n",
        "side = float(input(\"seu lado vale: \"))\n",
        "number_of_side = float(input(\"seu número de lados é: \"))\n",
        "apothem = float(input(\"seu apótema vale: \"))\n",
        "\n",
        "dados_poligono = poligono(side, number_of_side, apothem)\n",
        "\n",
        "print (\"seu perímetro é igual à: \",dados_poligono.calculate_perimeter(),\" milímetros\")\n",
        "print (\"sua área é igual à: \",dados_poligono.calculate_area(),\" milímetros\")\n",
        "\n",
        "if number_of_side == 3:\n",
        "    print(\"você é um triângulo!\")\n",
        "else:\n",
        "    print(\"você não é um triângulo!\")\n",
        "\n",
        "if number_of_side == 4:\n",
        "    print(\"você é um quadrilátero!\")\n",
        "else:\n",
        "    print(\"você não é um quadrilátero!\")\n",
        "\n",
        "if number_of_side == 5:\n",
        "    print(\"você é um pentágono!\")\n",
        "else:\n",
        "    print(\"você não é um pentágono!\")"
      ]
    }
  ]
}