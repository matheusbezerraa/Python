{
  "nbformat": 4,
  "nbformat_minor": 0,
  "metadata": {
    "colab": {
      "provenance": [],
      "collapsed_sections": []
    },
    "kernelspec": {
      "name": "python3",
      "display_name": "Python 3"
    },
    "language_info": {
      "name": "python"
    }
  },
  "cells": [
    {
      "cell_type": "code",
      "execution_count": 25,
      "metadata": {
        "id": "3HBEhaEdyUY_",
        "colab": {
          "base_uri": "https://localhost:8080/"
        },
        "outputId": "cc8f47c3-4921-4171-9079-bdf64647e07c"
      },
      "outputs": [
        {
          "output_type": "stream",
          "name": "stdout",
          "text": [
            "\n",
            "******************* Python Calculator *******************\n",
            "\n",
            "Selecione o número da operação desejada: \n",
            "\n",
            "1 - Soma\n",
            "2 - Subtração\n",
            "3 - Multiplicação\n",
            "4 - Divisão\n",
            "\n",
            "Digite sua opção (1/2/3/4): 4\n",
            "\n",
            "Digite o primeiro número: 4\n",
            "\n",
            "Digite o segundo número: 0\n",
            "\n",
            "não se divide por 0\n",
            "\n",
            "\n",
            "\n",
            "4.0 / 0.0 = None\n",
            "\n",
            "\n"
          ]
        }
      ],
      "source": [
        "# Calculadora em Python\n",
        "# Essa calculadora é extremamente simples e também contém erros de execução\n",
        "# Faça uma melhoria com o tempo disponível utilizando o que já vimos, \n",
        "#    listas, dicionário, loops, classes, etc....\n",
        "\n",
        "print(\"\\n******************* Python Calculator *******************\")\n",
        "\n",
        "def add(x, y):\n",
        "\treturn x + y\n",
        "\n",
        "def subtract(x, y):\n",
        "\treturn x - y\n",
        "\n",
        "def multiply(x, y):\n",
        "\treturn x * y\n",
        "\n",
        "def divide(x, y):\n",
        "\t\n",
        "\tif y <= 0:\n",
        "\t\tprint('')\n",
        "\telse:\n",
        "\t\treturn x / y\n",
        "    \n",
        "  \n",
        "print(\"\\nSelecione o número da operação desejada: \\n\")\n",
        "print(\"1 - Soma\")\n",
        "print(\"2 - Subtração\")\n",
        "print(\"3 - Multiplicação\")\n",
        "print(\"4 - Divisão\")\n",
        "\n",
        "escolha = input(\"\\nDigite sua opção (1/2/3/4): \")\n",
        "\n",
        "num1 = float(input(\"\\nDigite o primeiro número: \"))\n",
        "num2 = float(input(\"\\nDigite o segundo número: \"))\n",
        "\n",
        "if escolha == '1':\n",
        "\tprint(\"\\n\")\n",
        "\tprint(num1, \"+\", num2, \"=\", add(num1, num2))\n",
        "\tprint(\"\\n\")\n",
        "\n",
        "elif escolha == '2':\n",
        "\tprint(\"\\n\")\n",
        "\tprint(num1, \"-\", num2, \"=\", subtract(num1, num2))\n",
        "\tprint(\"\\n\")\n",
        "\n",
        "elif escolha == '3':\n",
        "\tprint(\"\\n\")\n",
        "\tprint(num1, \"*\", num2, \"=\", multiply(num1, num2))\n",
        "\tprint(\"\\n\")\n",
        "\n",
        "elif escolha == '4' :\n",
        "\tif num1 or num2 <=0:\n",
        "\t\tprint()\n",
        "\t\tprint('não se divide por 0')\n",
        "\tprint(\"\\n\")\n",
        "\tprint(num1, \"/\", num2, \"=\", divide(num1, num2))\n",
        "\tprint(\"\\n\")\n",
        "\n",
        "else:\n",
        "\tprint(\"\\nOpção Inválida!\")"
      ]
    }
  ]
}