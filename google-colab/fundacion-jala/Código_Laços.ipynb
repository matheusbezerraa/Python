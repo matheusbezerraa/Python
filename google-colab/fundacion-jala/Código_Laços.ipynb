{
  "cells": [
    {
      "cell_type": "code",
      "execution_count": 2,
      "metadata": {
        "id": "IxCi1SIOKiDZ"
      },
      "outputs": [],
      "source": [
        "\n",
        "def get_part_status(self):\n",
        "    part_status = {}\n",
        "    for part in self.parts:\n",
        "        status_dict = part.get_status_dict()\n",
        "        part_status.update(status_dict)\n",
        "    return part_status\n",
        "      \n",
        "        \n",
        "def build_robot():\n",
        "    robot_name = input(\"Robot name: \")\n",
        "    color_code = choose_color()\n",
        "    robot = Robot(robot_name, color_code)\n",
        "    robot.print_status()\n",
        "    return robot\n",
        "\n",
        "def choose_color():\n",
        "    available_colors = colors\n",
        "    print(\"Available colors:\")\n",
        "    for key, value in available_colors.items():\n",
        "        print(value, key)\n",
        "    print(colors[\"White\"])\n",
        "    chosen_color = input(\"Choose a color: \")\n",
        "    color_code = available_colors[chosen_color]\n",
        "    return color_code\n"
      ]
    }
  ],
  "metadata": {
    "colab": {
      "collapsed_sections": [],
      "provenance": []
    },
    "kernelspec": {
      "display_name": "Python 3",
      "name": "python3"
    },
    "language_info": {
      "name": "python"
    }
  },
  "nbformat": 4,
  "nbformat_minor": 0
}