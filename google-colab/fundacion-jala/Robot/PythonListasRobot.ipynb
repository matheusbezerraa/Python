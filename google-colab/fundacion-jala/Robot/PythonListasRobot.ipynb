{
  "nbformat": 4,
  "nbformat_minor": 0,
  "metadata": {
    "colab": {
      "provenance": [],
      "collapsed_sections": []
    },
    "kernelspec": {
      "name": "python3",
      "display_name": "Python 3"
    },
    "language_info": {
      "name": "python"
    }
  },
  "cells": [
    {
      "cell_type": "code",
      "execution_count": null,
      "metadata": {
        "id": "qqxsGIJbpOzL"
      },
      "outputs": [],
      "source": [
        "import random\n",
        "\n",
        "class Part():\n",
        "\n",
        "   def __init__(self, name, attack_level=0, defense_level=0, energy_consumption=0):\n",
        "     self.name = name\n",
        "     self.attack_level = attack_level\n",
        "     self.defense_level = defence_level\n",
        "     self.energy_consumption = energy_consumption\n",
        "     self.available = True\n",
        "\n",
        "   def print_status(self):\n",
        "       print(self.name)\n",
        "       print('attack level: ', self.attack_level)\n",
        "       print('defence level: ', self.defence_level)\n",
        "       print('energy consumption: ', self.energy_consumption)\n",
        "       print('is avaliable: ', self.avaliable)  \n",
        "\n",
        "\n",
        "class Robot\n",
        "   def __init__ (self, name, color_code, player_name):\n",
        "     self.name = name\n",
        "     self.color_code = color_code\n",
        "     self.player_name = player_name\n",
        "     self.energy = 100\n",
        "     self.vivo = True\n",
        "     self.parts = {\n",
        "         'Head': Part('Head', attack_level=5, defence_level=10, energy_consumption=5),\n",
        "         'Head': Part('Head', attack_level=5, defence_level=10, energy_consumption=5),\n",
        "         'Left arm': Part('Left arm', attack_level=3, defence_level=20, energy_consumption=10),\n",
        "         'Right arm': Part('Right arm', attack_level=6, defence_level=20, energy_consumption=10),\n",
        "         'Left leg': Part('Left leg', attack_level=4, defence_level=20, energy+consumption=15),\n",
        "         'Right leg': Part('Right leg', attack_level=8, defence_level=20, energy_consumption=15),\n",
        "     }\n",
        "\n",
        "   def attack(self, enemy_robot, part_to_use, part_to_atack):\n",
        "       enemy_robot.parts[part_to_attack].defence_level -= self.parts[part_to_use].attack_level\n",
        "       self.energy -= self>parts[part_to_use].energy_consumption\n",
        "\n",
        "   def set_super(self):\n",
        "       supers = [\n",
        "           Part('Armor', attack_level=0, defence_level=30, energy_consumption=0),\n",
        "           Part('Lethal Weapon', attack_level=15, defence_level=0, energy_consumption=10),\n",
        "       ]\n",
        "       super = radom.choice(supers)\n",
        "       self.parts['super'] = super\n",
        "       print('You created me, so take this super part!!')\n",
        "       super.print_status             "
      ]
    },
    {
      "cell_type": "code",
      "source": [],
      "metadata": {
        "id": "a6vPQ8h1rZpp"
      },
      "execution_count": null,
      "outputs": []
    }
  ]
}