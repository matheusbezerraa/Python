{
  "nbformat": 4,
  "nbformat_minor": 0,
  "metadata": {
    "colab": {
      "provenance": [],
      "collapsed_sections": []
    },
    "kernelspec": {
      "name": "python3",
      "display_name": "Python 3"
    },
    "language_info": {
      "name": "python"
    }
  },
  "cells": [
    {
      "cell_type": "code",
      "execution_count": 2,
      "metadata": {
        "id": "4hZ2vl2fQLty"
      },
      "outputs": [],
      "source": [
        "def get_part_status(self):\n",
        "    part_status = {}\n",
        "    for part in self.parts:\n",
        "        status_dict = part.get_status_dict()\n",
        "        part_status.update(status_dict)\n",
        "    return part_status\n",
        "\n",
        "def is_there_avaliable_part(self):\n",
        "    for part in self.parts:\n",
        "        if part.is_avaliable():\n",
        "           return True\n",
        "    return False "
      ]
    }
  ]
}