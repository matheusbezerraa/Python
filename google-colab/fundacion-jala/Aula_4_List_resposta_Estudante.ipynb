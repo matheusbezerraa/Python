{
  "cells": [
    {
      "cell_type": "markdown",
      "metadata": {
        "id": "0CITupjC5qaN"
      },
      "source": [
        "## Listas e dicionários\n",
        "\n",
        "Ambos são conhecidos como estruturas de dados, eles nos ajudam a armazenar dados e podemos realizar operações neles, mostraremos alguns exemplos e você poderá continuar testando algumas operações."
      ]
    },
    {
      "cell_type": "markdown",
      "metadata": {
        "id": "-SviEnyu5qaW"
      },
      "source": [
        "### Listas\n",
        "\n",
        "As listas são como as listas que normalmente conhecemos no mundo real, como listas de alunos, lista de números de telefone, etc. E como na vida real em python eles também possuem uma ordem, com a diferença que a primeira posição é 0, vejamos alguns exemplos:"
      ]
    },
    {
      "cell_type": "code",
      "execution_count": 8,
      "metadata": {
        "id": "x4nv4W1h5qaX",
        "outputId": "09f850c9-42e4-40f1-8ec2-eb770f4911c2",
        "colab": {
          "base_uri": "https://localhost:8080/"
        }
      },
      "outputs": [
        {
          "output_type": "stream",
          "name": "stdout",
          "text": [
            "green\n"
          ]
        }
      ],
      "source": [
        "colors = [\"green\", \"blue\", \"yellow\", \"red\"]\n",
        "\n",
        "## Acessamos o valor da primeira posição da lista usando o valor 0, que chamaremos de índice\n",
        "\n",
        "\n",
        "print(colors[0])"
      ]
    },
    {
      "cell_type": "code",
      "execution_count": 9,
      "metadata": {
        "id": "qnRzw0L05qaa",
        "outputId": "4818efcb-ce25-41a3-f8e8-9fffd742d450",
        "colab": {
          "base_uri": "https://localhost:8080/"
        }
      },
      "outputs": [
        {
          "output_type": "stream",
          "name": "stdout",
          "text": [
            "34\n"
          ]
        }
      ],
      "source": [
        "## O que acontece se acessarmos uma posição que não existe na lista:\n",
        "\n",
        "ages = [12, 13, 45, 34, 23]\n",
        "\n",
        "## Ele lançará uma exceção explicando o motivo.\n",
        "print(ages[3])"
      ]
    },
    {
      "cell_type": "code",
      "execution_count": null,
      "metadata": {
        "id": "K-ucok3h5qac",
        "outputId": "7af50c57-d8c1-4a5c-f697-01ed6d3516b9",
        "colab": {
          "base_uri": "https://localhost:8080/"
        }
      },
      "outputs": [
        {
          "output_type": "stream",
          "name": "stdout",
          "text": [
            "[12, 'Carlos', 'Robert', '999', 909]\n"
          ]
        }
      ],
      "source": [
        "## Você viu que nos exemplos usamos apenas um único tipo de dado na lista\n",
        "## Mas podemos ter vários tipos em uma lista\n",
        "\n",
        "students = [12, \"Carlos\", \"Robert\", \"999\", 909]\n",
        "## Imprimimos a lista sem problemas porque é válida\n",
        "print(students)"
      ]
    },
    {
      "cell_type": "markdown",
      "metadata": {
        "id": "PUUxg-ws5qac"
      },
      "source": [
        "Podemos fazer várias operações com as listas, aqui estão algumas:\n",
        "\n",
        "- **index(value_to_search):** Retorna o valor a ser pesquisado na lista.\n",
        "- **insert(position, value_to_add):** Adiciona um valor à lista, em uma determinada posição.\n",
        "- **max(lista):** Retorna o valor máximo de uma lista.\n",
        "- **min(lista):** Retorna o valor mínimo de uma lista.\n",
        "- **list.count(value):** Retorna o número de vezes que um valor está em uma lista.\n",
        "- **append(value)** Adiciona um valor à lista na última posição\n"
      ]
    },
    {
      "cell_type": "code",
      "execution_count": 10,
      "metadata": {
        "colab": {
          "base_uri": "https://localhost:8080/"
        },
        "id": "QQ9T_0RV5qad",
        "outputId": "41aa34c6-31fa-43f9-cb53-be908eeb32c9"
      },
      "outputs": [
        {
          "output_type": "stream",
          "name": "stdout",
          "text": [
            "Write an account: 113\n",
            "4\n",
            "['123', '345', '222', '345', '900', '113']\n",
            "1\n",
            "900\n",
            "113\n",
            "6\n"
          ]
        }
      ],
      "source": [
        "from traitlets.config.application import indent\n",
        "## Vamos testar o anexo com uma entrada usando a função input()\n",
        "\n",
        "accounts = ['123', '345', '345', '900']\n",
        "account = input(\"Write an account: \")\n",
        "\n",
        "print(len(accounts))\n",
        "\n",
        "ind = accounts.index('345')\n",
        "accounts.append(account)\n",
        "accounts.insert(2,'222')\n",
        "maximo = max(accounts)\n",
        "minimo = min(accounts)\n",
        "\n",
        "## Você pode tentar usar as outras operações.\n",
        "print(accounts)\n",
        "print(ind)\n",
        "print(maximo)\n",
        "print(minimo)\n",
        "print(len(accounts))"
      ]
    },
    {
      "cell_type": "markdown",
      "metadata": {
        "id": "8Jbh3V6Y5qaf"
      },
      "source": [
        "### Dicionários\n",
        "\n",
        "Assim como as listas, elas não diferem muito do que conhecemos na vida real, usamos uma chave que chamaremos de `chave` para acessar um valor que em python conhecemos como `valor`, diferente das listas essa estrutura não tem um valor definido ordem, vamos ver alguns exemplos."
      ]
    },
    {
      "cell_type": "code",
      "execution_count": null,
      "metadata": {
        "id": "Al5sMIfV5qag",
        "outputId": "ff0a245a-dcd4-4904-e66b-4d2e982050de",
        "colab": {
          "base_uri": "https://localhost:8080/"
        }
      },
      "outputs": [
        {
          "output_type": "stream",
          "name": "stdout",
          "text": [
            "12\n",
            "pablo\n",
            "Terceiro\n",
            "dict_keys(['carlos', 'pablo', 'mendoza'])\n",
            "dict_values(['carlos', 'pablo', 'mendoza'])\n",
            "12\n"
          ]
        }
      ],
      "source": [
        "names_by_age = {\"carlos\": 12, \"pablo\": 23, \"mendoza\": 90}\n",
        "\n",
        "ages_by_name = {12: \"carlos\", 23: \"pablo\", 90: \"mendoza\"}\n",
        "\n",
        "order_by_number = {1: \"Primeiro\", 2: \"Segundo\", 3: \"Terceiro\", 4: \"Quarto\"}\n",
        "\n",
        "## ao contrário das listas para acessar um valor, você deve usar a chave, não o index\n",
        "print(names_by_age[\"carlos\"])\n",
        "print(ages_by_name[23])\n",
        "print(order_by_number[3])\n",
        "\n",
        "print(names_by_age.keys())\n",
        "print(ages_by_name.values())\n",
        "print(names_by_age['carlos'])\n"
      ]
    },
    {
      "cell_type": "code",
      "execution_count": 41,
      "metadata": {
        "id": "qgVcbfAu5qah",
        "outputId": "173fbc3e-cb3f-4b80-ed36-a1220729659c",
        "colab": {
          "base_uri": "https://localhost:8080/"
        }
      },
      "outputs": [
        {
          "output_type": "stream",
          "name": "stdout",
          "text": [
            "12\n"
          ]
        }
      ],
      "source": [
        "## O que acontece se inserirmos uma chave que não existe?\n",
        "\n",
        "users_by_page = {\"facebook\": 12, \"instagram\": 89, \"reddit\": 890}\n",
        "\n",
        "## Assim como nas listas, uma exceção é lançada\n",
        "print(users_by_page[\"facebook\"])"
      ]
    },
    {
      "cell_type": "code",
      "execution_count": null,
      "metadata": {
        "id": "9s8rUJHx5qaj",
        "outputId": "215bf2e4-22eb-4db9-ff10-aab736d7aa13"
      },
      "outputs": [
        {
          "name": "stdout",
          "output_type": "stream",
          "text": [
            "{'bulldog': 23, 'golden': 123}\n"
          ]
        }
      ],
      "source": [
        "## O que acontece se criarmos um dicionário com chaves duplicadas?\n",
        "\n",
        "dogs = {\"bulldog\": 23, \"golden\": 90, \"golden\": 123}\n",
        "\n",
        "## Como você pode ver, leva o último valor que inserimos no dicionário\n",
        "print(dogs)"
      ]
    },
    {
      "cell_type": "code",
      "execution_count": null,
      "metadata": {
        "id": "lIBiKmBG5qal",
        "outputId": "6e8495ef-e870-4df0-c631-65751bbc5ed8",
        "colab": {
          "base_uri": "https://localhost:8080/"
        }
      },
      "outputs": [
        {
          "output_type": "stream",
          "name": "stdout",
          "text": [
            "{'meow': 89, 'pelusa': 89, 'dog': 100, 'mouse': 25}\n",
            "89\n",
            "89\n",
            "{'meow': 89, 'pelusa': 89, 'dog': 100}\n",
            "{'meow': 89, 'pelusa': 89, 'dog': 100, 'mouse': 25}\n",
            "A palavra Cordel NÃO foi encontrada!\n"
          ]
        }
      ],
      "source": [
        "## Como alteramos um valor no dicionário?\n",
        "\n",
        "cats = {\"meow\": 90, \"pelusa\": 89, \"dog\": 100, \"mouse\": 25}\n",
        "cats[\"meow\"] = 89;\n",
        "print(cats)\n",
        "cats.pop(\"mouse\")\n",
        "print(cats.get(\"pelusa\"))\n",
        "print(cats[\"pelusa\"])\n",
        "\n",
        "print(cats)\n",
        "cats.update({\"mouse\": 25})\n",
        "print(cats)\n",
        "\n",
        "consulta = ('Cordel ' in 'Meu nome é Alexandre Cordel')\n",
        "\n",
        "if (consulta == True):\n",
        "  print(\"A palavra Cordel foi encontrada!\")\n",
        "else:\n",
        "  print(\"A palavra Cordel NÃO foi encontrada!\")"
      ]
    },
    {
      "cell_type": "code",
      "source": [],
      "metadata": {
        "id": "EVuhHsh-8PLO"
      },
      "execution_count": null,
      "outputs": []
    },
    {
      "cell_type": "markdown",
      "metadata": {
        "id": "r6Nqc4BV5qam"
      },
      "source": [
        "Como nas listas podemos fazer várias operações com os dicionários, como:\n",
        "  * **get('key')**: Retorna o valor que corresponde à chave inserida.\n",
        "  * **pop('key')**: Retorna o valor que corresponde à chave inserida e, em seguida, exclui a chave e o valor.\n",
        "  * **update({'key':'value'})**: Insere uma determinada chave ou atualiza seu valor se já existir.\n",
        "  * **«chave» no dicionario**: Retorna verdadeiro (Verdadeiro) ou falso (Falso) se a chave (não os valores) existir no dicionário.\n",
        "  * **«definição» em dicionario.values()**: Retorna true (True) ou false (False) se a definição existir no dicionário (não como chave)."
      ]
    },
    {
      "cell_type": "code",
      "execution_count": null,
      "metadata": {
        "id": "9gfsE4x25qan",
        "outputId": "06aebfdc-0248-4fe6-83fc-88ef61e40aee",
        "colab": {
          "base_uri": "https://localhost:8080/"
        }
      },
      "outputs": [
        {
          "output_type": "stream",
          "name": "stdout",
          "text": [
            "{'list': [1, 2, 3, 4, 5]}\n"
          ]
        }
      ],
      "source": [
        "## Você pode experimentar as funções que quiser, pode até misturar listas com dicionários\n",
        "\n",
        "special_dict = {\"list\": [1, 2, 3, 4, 5]}\n",
        "print(special_dict)\n"
      ]
    },
    {
      "cell_type": "markdown",
      "metadata": {
        "id": "KmMkrbEc5qao"
      },
      "source": [
        "## Exercícios"
      ]
    },
    {
      "cell_type": "markdown",
      "metadata": {
        "id": "z43EUa4J5qao"
      },
      "source": [
        "### Exercício 1\n",
        "\n",
        "Você se lembra do exercício da lição anterior em que pedimos para você fazer uma versão do jogo: pedra, papel, tesoura, lagarto, esponja. Bem, como você sabe, no mundo da programação não existe apenas uma única solução, mas n soluções, então para este exercício vamos pedir que você escreva o mesmo jogo, assim como você fez na lição anterior, com uma diferença, você deve usar dicionários."
      ]
    },
    {
      "cell_type": "code",
      "source": [
        "print ('[0]=Pedra, [1]=Papel , [2]=Tesoura , [3]=largato , [4]=esponja')\n",
        "\n",
        "pedra = 0\n",
        "papel = 1\n",
        "tesoura = 2\n",
        "largato = 3\n",
        "esponja = 4\n",
        "\n",
        "jogada1=int((input(\"Qual a sua primeira escolha? \")))\n",
        "\n",
        "jogada2=int((input('Qual a sua segunda escolha? ')))\n",
        "\n",
        "resultado={pedra: tesoura, tesoura: largato, papel: pedra,  largato: papel, esponja: tesoura}\n",
        "\n",
        "if resultado[jogada1] == jogada2:\n",
        "    print(\"Jogador 1 venceu\")\n",
        "else:\n",
        "    print(\"Jogador 2 venceu\")"
      ],
      "metadata": {
        "colab": {
          "base_uri": "https://localhost:8080/"
        },
        "id": "h3iwKGEEpFNn",
        "outputId": "84d025e3-51b6-46fb-ac65-cd1136696426"
      },
      "execution_count": 36,
      "outputs": [
        {
          "output_type": "stream",
          "name": "stdout",
          "text": [
            "[0]=Pedra, [1]=Papel , [2]=Tesoura , [3]=largato , [4]=esponja\n",
            "Qual a sua primeira escolha? 0\n",
            "Qual a sua segunda escolha? 2\n",
            "Jogador 1 venceu\n"
          ]
        }
      ]
    },
    {
      "cell_type": "code",
      "source": [],
      "metadata": {
        "id": "EQUD6OIFd7el"
      },
      "execution_count": 39,
      "outputs": []
    },
    {
      "cell_type": "markdown",
      "metadata": {
        "id": "BPx9i1SX5qap"
      },
      "source": [
        "### Exercício 2\n",
        "\n",
        "Lembre-se de como em um teste tentamos obter um índice que não existe de uma lista, mas uma exceção foi lançada, vamos imaginar que escrevemos nossa própria implementação e, em vez de mostrar uma exceção, mostraremos uma mensagem para o usuário dizendo : \"O índice que você está lidando para inserir não está na lista\", então deixamos essa classe, para que você complete o método get, para que, se o índice não existir, você imprima a mensagem, caso contrário, retorne o valor.\n"
      ]
    },
    {
      "cell_type": "code",
      "execution_count": 18,
      "metadata": {
        "id": "iB2qcamZ5qap",
        "colab": {
          "base_uri": "https://localhost:8080/"
        },
        "outputId": "af29b454-5f91-44f9-aa58-1eb6ceb61aeb"
      },
      "outputs": [
        {
          "output_type": "stream",
          "name": "stdout",
          "text": [
            "4\n",
            "None\n",
            "O índice que você está lidando para inserir não está na lista\n"
          ]
        }
      ],
      "source": [
        "class CustomList:\n",
        "    def __init__(self, items):\n",
        "        self.items = items\n",
        "    \n",
        "    def get(self, index):\n",
        "        print(self.items[index])\n",
        "\n",
        "\n",
        "custom_list = CustomList([1, 3, 4 ,5 ,6 ,7])\n",
        "\n",
        "## Deve retornar o valor 4\n",
        "print(custom_list.get(2))\n",
        "## Você deve imprimir a mensagem\n",
        "try:\n",
        "  (custom_list.get(7))\n",
        "except:\n",
        "  print(\"O índice que você está lidando para inserir não está na lista\")  "
      ]
    },
    {
      "cell_type": "code",
      "execution_count": 18,
      "metadata": {
        "id": "wFgiWQTO5qaq"
      },
      "outputs": [],
      "source": []
    },
    {
      "cell_type": "markdown",
      "metadata": {
        "id": "xeOjEp5j5qaq"
      },
      "source": [
        "### Exercício 3\n",
        "\n",
        "Vamos continuar implementando a funcionalidade em nossa lista, neste caso queremos um método `delete`, que primeiro verifica se o valor que queremos excluir está na lista, caso contrário imprime uma mensagem que diz: \"O valor não está na lista\", caso contrário remova o valor."
      ]
    },
    {
      "cell_type": "code",
      "execution_count": 28,
      "metadata": {
        "id": "zUdG1wvd5qar",
        "colab": {
          "base_uri": "https://localhost:8080/"
        },
        "outputId": "4acb0b2e-e3b9-4012-f576-5dc2cc8e893c"
      },
      "outputs": [
        {
          "output_type": "stream",
          "name": "stdout",
          "text": [
            "O valor não está na lista\n"
          ]
        }
      ],
      "source": [
        "class CustomList:\n",
        "    def __init__(self, items):\n",
        "        self.items = items\n",
        "    \n",
        "    def delete(self, index):\n",
        "        if index in self.items:\n",
        "          print('o valor ta' )\n",
        "        else:\n",
        "          print('O valor não está na lista')  \n",
        "\n",
        "\n",
        "\n",
        "\n",
        "\n",
        "\n",
        "custom_list = CustomList([\"green\", \"blue\", \"yellow\", \"brown\"])\n",
        "\n",
        "\n",
        "## Você deve imprimir a mensagem\n",
        "custom_list.delete('')        "
      ]
    },
    {
      "cell_type": "code",
      "execution_count": null,
      "metadata": {
        "id": "v2pk9GmK5qar"
      },
      "outputs": [],
      "source": []
    },
    {
      "cell_type": "markdown",
      "metadata": {
        "id": "n2swVsPD5qas"
      },
      "source": [
        "### Exercício 4\n",
        "\n",
        "Na classe seguinte que define uma sala de aula, temos um método check_student, que recebe como parâmetro o nome do aluno, você deve determinar se o aluno está presente ou não na lista. Retorna True se o aluno estiver presente, caso contrário retorna False."
      ]
    },
    {
      "cell_type": "code",
      "execution_count": 20,
      "metadata": {
        "id": "yBx_nie55qas",
        "colab": {
          "base_uri": "https://localhost:8080/"
        },
        "outputId": "03e08c82-3b34-43e1-e131-e597ff988a4b"
      },
      "outputs": [
        {
          "output_type": "stream",
          "name": "stdout",
          "text": [
            "True\n",
            "False\n"
          ]
        }
      ],
      "source": [
        "class ClassRoom:\n",
        "    def __init__(self):\n",
        "        self.students = [\"Maria\", \"George\", \"Pablo\", \"Lucas\", \"Marco\", \"Tony\", \"Diego\"]\n",
        "        \n",
        "    def check_student(self, student):\n",
        "      if(student in self.students):\n",
        "        print(True)\n",
        "      else:\n",
        "        print(False)  \n",
        "\n",
        "\n",
        "\n",
        "\n",
        "room_one = ClassRoom()\n",
        "## Deve retornar True\n",
        "room_one.check_student(\"Maria\")       \n",
        "room_one.check_student(\"Messi\")  "
      ]
    },
    {
      "cell_type": "code",
      "execution_count": null,
      "metadata": {
        "id": "KXfBkAQ_5qas"
      },
      "outputs": [],
      "source": []
    },
    {
      "cell_type": "code",
      "execution_count": null,
      "metadata": {
        "id": "kQuIJjM55qat"
      },
      "outputs": [],
      "source": []
    }
  ],
  "metadata": {
    "kernelspec": {
      "display_name": "Python 3",
      "language": "python",
      "name": "python3"
    },
    "language_info": {
      "codemirror_mode": {
        "name": "ipython",
        "version": 3
      },
      "file_extension": ".py",
      "mimetype": "text/x-python",
      "name": "python",
      "nbconvert_exporter": "python",
      "pygments_lexer": "ipython3",
      "version": "3.6.7"
    },
    "colab": {
      "provenance": [],
      "collapsed_sections": []
    }
  },
  "nbformat": 4,
  "nbformat_minor": 0
}